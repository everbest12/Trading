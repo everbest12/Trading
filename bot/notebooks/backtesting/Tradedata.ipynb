{
 "cells": [
  {
   "cell_type": "markdown",
   "metadata": {},
   "source": []
  },
  {
   "cell_type": "markdown",
   "metadata": {},
   "source": [
    "Retrieves your historical traded data (positions history) for a specified date range\n",
    "\n",
    "Formats it as a DataFrame\n",
    "\n",
    "Saves it to a CSV file\n",
    "\n",
    "Ideal for trade performance analysis, backtesting, win/loss ratio, equity curve etc.\n",
    "\n",
    "📦 Function: Get Historical Trade Data and Save to CSV"
   ]
  },
  {
   "cell_type": "code",
   "execution_count": null,
   "metadata": {
    "vscode": {
     "languageId": "plaintext"
    }
   },
   "outputs": [],
   "source": [
    "import MetaTrader5 as mt5\n",
    "import pandas as pd\n",
    "from datetime import datetime\n",
    "import os\n",
    "\n",
    "def export_trade_history_to_csv(start_date: str, end_date: str, filename: str = \"trade_history.csv\"):\n",
    "    \"\"\"\n",
    "    Fetch and export historical trade data from MetaTrader5 to a CSV file.\n",
    "\n",
    "    Args:\n",
    "        start_date (str): Start date in 'YYYY-MM-DD' format.\n",
    "        end_date (str): End date in 'YYYY-MM-DD' format.\n",
    "        filename (str): File name or path to save trade history (default: 'trade_history.csv').\n",
    "\n",
    "    Returns:\n",
    "        bool: True if successful, False otherwise.\n",
    "    \"\"\"\n",
    "\n",
    "    # Connect to MetaTrader 5\n",
    "    if not mt5.initialize():\n",
    "        print(\"MT5 initialization failed:\", mt5.last_error())\n",
    "        return False\n",
    "\n",
    "    try:\n",
    "        # Convert string dates to datetime objects\n",
    "        from_date = datetime.strptime(start_date, \"%Y-%m-%d\")\n",
    "        to_date = datetime.strptime(end_date, \"%Y-%m-%d\")\n",
    "\n",
    "        # Request history deals\n",
    "        deals = mt5.history_deals_get(from_date, to_date)\n",
    "\n",
    "        if deals is None or len(deals) == 0:\n",
    "            print(\"No historical trade data found in the given period.\")\n",
    "            mt5.shutdown()\n",
    "            return False\n",
    "\n",
    "        # Convert to DataFrame\n",
    "        deals_df = pd.DataFrame(deals, columns=deals[0]._asdict().keys())\n",
    "        deals_df['time'] = pd.to_datetime(deals_df['time'], unit='s')\n",
    "\n",
    "        # Optional sort\n",
    "        deals_df.sort_values('time', inplace=True)\n",
    "\n",
    "        # Ensure output directory exists\n",
    "        os.makedirs(os.path.dirname(filename) or \".\", exist_ok=True)\n",
    "\n",
    "        # Save to CSV\n",
    "        deals_df.to_csv(filename, index=False)\n",
    "        print(f\"✅ Trade history exported to {filename}\")\n",
    "\n",
    "    except Exception as e:\n",
    "        print(f\"❌ Error during trade export: {e}\")\n",
    "        mt5.shutdown()\n",
    "        return False\n",
    "\n",
    "    # Disconnect from MT5\n",
    "    mt5.shutdown()\n",
    "    return True\n"
   ]
  },
  {
   "cell_type": "code",
   "execution_count": null,
   "metadata": {
    "vscode": {
     "languageId": "plaintext"
    }
   },
   "outputs": [],
   "source": []
  },
  {
   "cell_type": "code",
   "execution_count": null,
   "metadata": {
    "vscode": {
     "languageId": "plaintext"
    }
   },
   "outputs": [],
   "source": []
  },
  {
   "cell_type": "code",
   "execution_count": null,
   "metadata": {
    "vscode": {
     "languageId": "plaintext"
    }
   },
   "outputs": [],
   "source": []
  }
 ],
 "metadata": {
  "language_info": {
   "name": "python"
  }
 },
 "nbformat": 4,
 "nbformat_minor": 2
}
